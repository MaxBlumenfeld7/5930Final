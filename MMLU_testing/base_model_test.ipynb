{
 "cells": [
  {
   "cell_type": "code",
   "execution_count": 7,
   "metadata": {},
   "outputs": [
    {
     "name": "stderr",
     "output_type": "stream",
     "text": [
      "huggingface/tokenizers: The current process just got forked, after parallelism has already been used. Disabling parallelism to avoid deadlocks...\n",
      "To disable this warning, you can either:\n",
      "\t- Avoid using `tokenizers` before the fork if possible\n",
      "\t- Explicitly set the environment variable TOKENIZERS_PARALLELISM=(true | false)\n"
     ]
    },
    {
     "name": "stdout",
     "output_type": "stream",
     "text": [
      "Collecting git+https://github.com/huggingface/transformers\n",
      "  Cloning https://github.com/huggingface/transformers to /private/var/folders/lt/mt1wm0qn1xvggfy2hl96wrlh0000gn/T/pip-req-build-cwcbl3bt\n",
      "  Running command git clone --filter=blob:none --quiet https://github.com/huggingface/transformers /private/var/folders/lt/mt1wm0qn1xvggfy2hl96wrlh0000gn/T/pip-req-build-cwcbl3bt\n",
      "  Resolved https://github.com/huggingface/transformers to commit c8c8dffbe45ebef0a8dba4a51024e5e5e498596b\n",
      "  Installing build dependencies ... \u001b[?25ldone\n",
      "\u001b[?25h  Getting requirements to build wheel ... \u001b[?25ldone\n",
      "\u001b[?25h  Preparing metadata (pyproject.toml) ... \u001b[?25ldone\n",
      "\u001b[?25hRequirement already satisfied: datasets in /Users/johnvalencia/anaconda3/lib/python3.10/site-packages (3.1.0)\n",
      "Requirement already satisfied: evaluate in /Users/johnvalencia/anaconda3/lib/python3.10/site-packages (0.4.3)\n",
      "Requirement already satisfied: torch in /Users/johnvalencia/anaconda3/lib/python3.10/site-packages (1.12.1)\n",
      "Requirement already satisfied: filelock in /Users/johnvalencia/anaconda3/lib/python3.10/site-packages (from transformers==4.48.0.dev0) (3.13.1)\n",
      "Requirement already satisfied: huggingface-hub<1.0,>=0.24.0 in /Users/johnvalencia/anaconda3/lib/python3.10/site-packages (from transformers==4.48.0.dev0) (0.26.3)\n",
      "Requirement already satisfied: numpy>=1.17 in /Users/johnvalencia/anaconda3/lib/python3.10/site-packages (from transformers==4.48.0.dev0) (1.25.0)\n",
      "Requirement already satisfied: packaging>=20.0 in /Users/johnvalencia/anaconda3/lib/python3.10/site-packages (from transformers==4.48.0.dev0) (23.1)\n",
      "Requirement already satisfied: pyyaml>=5.1 in /Users/johnvalencia/anaconda3/lib/python3.10/site-packages (from transformers==4.48.0.dev0) (6.0.1)\n",
      "Requirement already satisfied: regex!=2019.12.17 in /Users/johnvalencia/anaconda3/lib/python3.10/site-packages (from transformers==4.48.0.dev0) (2022.7.9)\n",
      "Requirement already satisfied: requests in /Users/johnvalencia/anaconda3/lib/python3.10/site-packages (from transformers==4.48.0.dev0) (2.32.3)\n",
      "Requirement already satisfied: tokenizers<0.22,>=0.21 in /Users/johnvalencia/anaconda3/lib/python3.10/site-packages (from transformers==4.48.0.dev0) (0.21.0)\n",
      "Requirement already satisfied: safetensors>=0.4.1 in /Users/johnvalencia/anaconda3/lib/python3.10/site-packages (from transformers==4.48.0.dev0) (0.4.5)\n",
      "Requirement already satisfied: tqdm>=4.27 in /Users/johnvalencia/anaconda3/lib/python3.10/site-packages (from transformers==4.48.0.dev0) (4.67.1)\n",
      "Requirement already satisfied: pyarrow>=15.0.0 in /Users/johnvalencia/anaconda3/lib/python3.10/site-packages (from datasets) (18.1.0)\n",
      "Requirement already satisfied: dill<0.3.9,>=0.3.0 in /Users/johnvalencia/anaconda3/lib/python3.10/site-packages (from datasets) (0.3.8)\n",
      "Requirement already satisfied: pandas in /Users/johnvalencia/anaconda3/lib/python3.10/site-packages (from datasets) (2.0.3)\n",
      "Requirement already satisfied: xxhash in /Users/johnvalencia/anaconda3/lib/python3.10/site-packages (from datasets) (3.5.0)\n",
      "Requirement already satisfied: multiprocess<0.70.17 in /Users/johnvalencia/anaconda3/lib/python3.10/site-packages (from datasets) (0.70.16)\n",
      "Requirement already satisfied: fsspec<=2024.9.0,>=2023.1.0 in /Users/johnvalencia/anaconda3/lib/python3.10/site-packages (from fsspec[http]<=2024.9.0,>=2023.1.0->datasets) (2023.10.0)\n",
      "Requirement already satisfied: aiohttp in /Users/johnvalencia/anaconda3/lib/python3.10/site-packages (from datasets) (3.11.9)\n",
      "Requirement already satisfied: typing_extensions in /Users/johnvalencia/anaconda3/lib/python3.10/site-packages (from torch) (4.9.0)\n",
      "Requirement already satisfied: aiohappyeyeballs>=2.3.0 in /Users/johnvalencia/anaconda3/lib/python3.10/site-packages (from aiohttp->datasets) (2.4.4)\n",
      "Requirement already satisfied: aiosignal>=1.1.2 in /Users/johnvalencia/anaconda3/lib/python3.10/site-packages (from aiohttp->datasets) (1.3.1)\n",
      "Requirement already satisfied: async-timeout<6.0,>=4.0 in /Users/johnvalencia/anaconda3/lib/python3.10/site-packages (from aiohttp->datasets) (5.0.1)\n",
      "Requirement already satisfied: attrs>=17.3.0 in /Users/johnvalencia/anaconda3/lib/python3.10/site-packages (from aiohttp->datasets) (23.1.0)\n",
      "Requirement already satisfied: frozenlist>=1.1.1 in /Users/johnvalencia/anaconda3/lib/python3.10/site-packages (from aiohttp->datasets) (1.5.0)\n",
      "Requirement already satisfied: multidict<7.0,>=4.5 in /Users/johnvalencia/anaconda3/lib/python3.10/site-packages (from aiohttp->datasets) (6.1.0)\n",
      "Requirement already satisfied: propcache>=0.2.0 in /Users/johnvalencia/anaconda3/lib/python3.10/site-packages (from aiohttp->datasets) (0.2.1)\n",
      "Requirement already satisfied: yarl<2.0,>=1.17.0 in /Users/johnvalencia/anaconda3/lib/python3.10/site-packages (from aiohttp->datasets) (1.18.3)\n",
      "Requirement already satisfied: charset-normalizer<4,>=2 in /Users/johnvalencia/anaconda3/lib/python3.10/site-packages (from requests->transformers==4.48.0.dev0) (2.0.4)\n",
      "Requirement already satisfied: idna<4,>=2.5 in /Users/johnvalencia/anaconda3/lib/python3.10/site-packages (from requests->transformers==4.48.0.dev0) (3.4)\n",
      "Requirement already satisfied: urllib3<3,>=1.21.1 in /Users/johnvalencia/anaconda3/lib/python3.10/site-packages (from requests->transformers==4.48.0.dev0) (2.1.0)\n",
      "Requirement already satisfied: certifi>=2017.4.17 in /Users/johnvalencia/anaconda3/lib/python3.10/site-packages (from requests->transformers==4.48.0.dev0) (2024.2.2)\n",
      "Requirement already satisfied: python-dateutil>=2.8.2 in /Users/johnvalencia/anaconda3/lib/python3.10/site-packages (from pandas->datasets) (2.8.2)\n",
      "Requirement already satisfied: pytz>=2020.1 in /Users/johnvalencia/anaconda3/lib/python3.10/site-packages (from pandas->datasets) (2023.3.post1)\n",
      "Requirement already satisfied: tzdata>=2022.1 in /Users/johnvalencia/anaconda3/lib/python3.10/site-packages (from pandas->datasets) (2023.3)\n",
      "Requirement already satisfied: six>=1.5 in /Users/johnvalencia/anaconda3/lib/python3.10/site-packages (from python-dateutil>=2.8.2->pandas->datasets) (1.16.0)\n",
      "Note: you may need to restart the kernel to use updated packages.\n"
     ]
    }
   ],
   "source": [
    "pip install git+https://github.com/huggingface/transformers datasets evaluate torch"
   ]
  },
  {
   "cell_type": "code",
   "execution_count": 8,
   "metadata": {},
   "outputs": [],
   "source": [
    "from IPython.display import Markdown, display"
   ]
  },
  {
   "cell_type": "code",
   "execution_count": 13,
   "metadata": {},
   "outputs": [],
   "source": [
    "# pip install transformers\n",
    "from transformers import AutoModelForCausalLM, AutoTokenizer\n",
    "checkpoint = \"HuggingFaceTB/SmolLM2-135M\"\n",
    "device = \"cpu\" # for GPU usage or \"cpu\" for CPU usage\n",
    "tokenizer = AutoTokenizer.from_pretrained(checkpoint)\n",
    "# for multiple GPUs install accelerate and do `model = AutoModelForCausalLM.from_pretrained(checkpoint, device_map=\"auto\")`\n",
    "model = AutoModelForCausalLM.from_pretrained(checkpoint).to(device)\n"
   ]
  },
  {
   "cell_type": "code",
   "execution_count": 30,
   "metadata": {},
   "outputs": [
    {
     "name": "stderr",
     "output_type": "stream",
     "text": [
      "The attention mask and the pad token id were not set. As a consequence, you may observe unexpected behavior. Please pass your input's `attention_mask` to obtain reliable results.\n",
      "Setting `pad_token_id` to `eos_token_id`:0 for open-end generation.\n"
     ]
    },
    {
     "name": "stdout",
     "output_type": "stream",
     "text": [
      "Gravity is the force that holds the Earth and the Moon together.\n",
      "\n",
      "The Moon is a satellite of the\n"
     ]
    }
   ],
   "source": [
    "'''\n",
    "inputs = tokenizer.encode(\"Gravity is\", return_tensors=\"pt\").to(device)\n",
    "outputs = model.generate(inputs)\n",
    "print(tokenizer.decode(outputs[0]))\n",
    "'''\n",
    "\n"
   ]
  },
  {
   "cell_type": "code",
   "execution_count": 28,
   "metadata": {},
   "outputs": [
    {
     "name": "stderr",
     "output_type": "stream",
     "text": [
      "Generating test split: 100%|██████████| 14042/14042 [00:00<00:00, 508639.77 examples/s]\n",
      "Generating validation split: 100%|██████████| 1531/1531 [00:00<00:00, 397344.19 examples/s]\n",
      "Generating dev split: 100%|██████████| 285/285 [00:00<00:00, 131692.92 examples/s]\n",
      "Generating auxiliary_train split: 100%|██████████| 99842/99842 [00:00<00:00, 686242.30 examples/s]"
     ]
    },
    {
     "name": "stdout",
     "output_type": "stream",
     "text": [
      "{'question': 'The cyclic subgroup of Z_24 generated by 18 has order', 'subject': 'abstract_algebra', 'choices': ['4', '8', '12', '6'], 'answer': 0}\n"
     ]
    },
    {
     "name": "stderr",
     "output_type": "stream",
     "text": [
      "\n"
     ]
    }
   ],
   "source": [
    "from datasets import load_dataset\n",
    "\n",
    "\n",
    "# Load the MMLU \"all\" configuration for the validation split\n",
    "dataset = load_dataset(\"cais/mmlu\", \"all\", split=\"validation\")\n",
    "print(dataset[0])\n",
    "# This should print a sample question and associated choices.\n"
   ]
  },
  {
   "cell_type": "code",
   "execution_count": 31,
   "metadata": {},
   "outputs": [
    {
     "name": "stderr",
     "output_type": "stream",
     "text": [
      "  1%|          | 18/1531 [06:02<6:00:25, 14.29s/it] "
     ]
    }
   ],
   "source": [
    "import torch\n",
    "from torch.nn.functional import log_softmax\n",
    "from tqdm import tqdm\n",
    "\n",
    "# Assuming \"dataset\" is the validation set you loaded\n",
    "# dataset = load_dataset(\"cais/mmlu\", \"all\", split=\"validation\")\n",
    "\n",
    "correct = 0\n",
    "total = 0\n",
    "\n",
    "for item in tqdm(dataset):\n",
    "    question = item[\"question\"]\n",
    "    choices = item[\"choices\"]\n",
    "    correct_answer_idx = item[\"answer\"]  # integer index of the correct choice\n",
    "\n",
    "    # We'll build a prompt for each choice and compute its log prob.\n",
    "    # Prompt template:\n",
    "    # \"Q: {question}\\nA: {candidate_answer}\"\n",
    "    # We'll return the sum of logprobs of the tokens in candidate_answer.\n",
    "\n",
    "    choice_logprobs = []\n",
    "    for i, choice_text in enumerate(choices):\n",
    "        prompt = f\"Q: {question}\\nA: \"\n",
    "        # We'll get the probability of the choice tokens given the prompt\n",
    "        prompt_ids = tokenizer.encode(prompt, return_tensors=\"pt\").to(device)\n",
    "        choice_ids = tokenizer.encode(choice_text, return_tensors=\"pt\").to(device)\n",
    "\n",
    "        # We feed the model with prompt+choice, then compare logprobs\n",
    "        input_ids = torch.cat([prompt_ids, choice_ids[:, 1:]], dim=1) # omit the initial bos from choice\n",
    "        \n",
    "        with torch.no_grad():\n",
    "            outputs = model(input_ids, return_dict=True)\n",
    "        \n",
    "        # logits shape: [batch, seq_length, vocab_size]\n",
    "        logits = outputs.logits\n",
    "        # We want the logprob of each choice token conditioned on the previous text\n",
    "        # The logprobs for the i-th token is based on logits of i-1-th position\n",
    "        # We'll sum them up.\n",
    "        # We start summation from the prompt length since we only care about the probability assigned to choice tokens.\n",
    "        \n",
    "        # Separate the prompt and choice tokens\n",
    "        prompt_len = prompt_ids.shape[1]\n",
    "        choice_token_ids = input_ids[0, prompt_len:]  # tokens corresponding to the choice\n",
    "\n",
    "        # Get logits corresponding to these choice tokens\n",
    "        choice_logits = logits[0, prompt_len-1:-1, :]  # -1 because we shift by one for next-token prediction\n",
    "\n",
    "        # Compute log probabilities\n",
    "        log_probs = log_softmax(choice_logits, dim=-1)\n",
    "        \n",
    "        # Sum the logprobs of the tokens in the choice\n",
    "        # For each token in the choice, find the corresponding logprob\n",
    "        token_logprobs = []\n",
    "        for idx, token_id in enumerate(choice_token_ids):\n",
    "            token_logprob = log_probs[idx, token_id].item()\n",
    "            token_logprobs.append(token_logprob)\n",
    "\n",
    "        choice_score = sum(token_logprobs)\n",
    "        choice_logprobs.append(choice_score)\n",
    "\n",
    "    # Pick the choice with the highest logprob\n",
    "    predicted_idx = torch.argmax(torch.tensor(choice_logprobs)).item()\n",
    "    \n",
    "    if predicted_idx == correct_answer_idx:\n",
    "        correct += 1\n",
    "    total += 1\n",
    "\n",
    "accuracy = correct / total * 100\n",
    "print(f\"MMLU Accuracy: {accuracy:.2f}%\")\n"
   ]
  }
 ],
 "metadata": {
  "kernelspec": {
   "display_name": "Python 3",
   "language": "python",
   "name": "python3"
  },
  "language_info": {
   "codemirror_mode": {
    "name": "ipython",
    "version": 3
   },
   "file_extension": ".py",
   "mimetype": "text/x-python",
   "name": "python",
   "nbconvert_exporter": "python",
   "pygments_lexer": "ipython3",
   "version": "3.10.13"
  },
  "orig_nbformat": 4
 },
 "nbformat": 4,
 "nbformat_minor": 2
}
