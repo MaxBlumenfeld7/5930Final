{
 "cells": [
  {
   "cell_type": "markdown",
   "metadata": {},
   "source": [
    "### Imports"
   ]
  },
  {
   "cell_type": "code",
   "execution_count": null,
   "metadata": {},
   "outputs": [],
   "source": [
    "from datasets import load_dataset\n",
    "from transformers import AutoTokenizer, AutoModelForCausalLM, TrainingArguments, Trainer\n",
    "from peft import LoraConfig, get_peft_model\n"
   ]
  },
  {
   "cell_type": "markdown",
   "metadata": {},
   "source": [
    "### Load the Dataset"
   ]
  },
  {
   "cell_type": "code",
   "execution_count": null,
   "metadata": {},
   "outputs": [],
   "source": [
    "# Load Alpaca dataset from Hugging Face or local JSON\n",
    "dataset = load_dataset(\"tatsu-lab/alpaca\")\n",
    "\n",
    "# Preview the dataset structure\n",
    "print(dataset)\n"
   ]
  },
  {
   "cell_type": "markdown",
   "metadata": {},
   "source": [
    "### Format, Scale, and Tokenize the Dataset"
   ]
  },
  {
   "cell_type": "code",
   "execution_count": null,
   "metadata": {},
   "outputs": [],
   "source": [
    "\n",
    "# Combine instruction, input, and output into a single text field\n",
    "def format_example(example):\n",
    "    instruction = example['instruction']\n",
    "    input_text = example['input']\n",
    "    output = example['output']\n",
    "    if input_text:\n",
    "        return f\"Instruction: {instruction}\\nInput: {input_text}\\nOutput: {output}\"\n",
    "    else:\n",
    "        return f\"Instruction: {instruction}\\nOutput: {output}\"\n",
    "\n",
    "formatted_dataset = dataset.map(lambda x: {\"text\": format_example(x)})\n",
    "\n",
    "# Load tokenizer\n",
    "tokenizer = AutoTokenizer.from_pretrained(\"HuggingFaceTB/SmolLM2-135M\")\n",
    "\n",
    "# Set the padding token to the <eos_token> (end of sentence token)\n",
    "tokenizer.pad_token = tokenizer.eos_token\n",
    "\n",
    "# If you want to use a new token for padding\n",
    "# tokenizer.add_special_tokens({'pad_token': '[PAD]'})\n",
    "\n",
    "# Tokenize dataset\n",
    "def tokenize_function(examples):\n",
    "    tokenized = tokenizer(examples[\"text\"], padding=\"max_length\", truncation=True, max_length=512)\n",
    "    tokenized[\"labels\"] = tokenized[\"input_ids\"].copy()  # Copy input_ids to labels\n",
    "    return tokenized\n",
    "\n",
    "\n",
    "tokenized_dataset = formatted_dataset.map(tokenize_function, batched=True)\n"
   ]
  },
  {
   "cell_type": "code",
   "execution_count": null,
   "metadata": {},
   "outputs": [],
   "source": [
    "print(tokenized_dataset)\n",
    "print(tokenized_dataset[\"train\"][0])\n",
    "\n",
    "\n"
   ]
  },
  {
   "cell_type": "code",
   "execution_count": null,
   "metadata": {},
   "outputs": [],
   "source": [
    "def scale_dataset(dataset, max_samples=1000):\n",
    "    \"\"\"Scale down a dataset to a maximum number of samples\"\"\"\n",
    "    if len(dataset) > max_samples:\n",
    "        scaled_indices = list(range(max_samples))\n",
    "        return dataset.select(scaled_indices)\n",
    "    return dataset\n",
    "\n",
    "\n",
    "# Set your desired size\n",
    "MAX_SAMPLES = 50000  # Adjust this number as needed\n",
    "\n",
    "# Print original size\n",
    "print(f\"Original sizes - Total dataset: {len(tokenized_dataset['train'])}\")\n",
    "\n",
    "# First scale down the full dataset\n",
    "scaled_full = scale_dataset(tokenized_dataset[\"train\"], MAX_SAMPLES)\n",
    "\n",
    "# Split into train and eval (90-10 split)\n",
    "splits = scaled_full.train_test_split(\n",
    "    test_size=0.1,  # 10% for eval\n",
    "    shuffle=True,\n",
    "    seed=42\n",
    ")\n",
    "\n",
    "tokenized_train = splits['train']\n",
    "tokenized_eval = splits['test']\n",
    "\n",
    "# Print final sizes\n",
    "print(f\"Final sizes - Train: {len(tokenized_train)}, Eval: {len(tokenized_eval)}\")"
   ]
  },
  {
   "cell_type": "markdown",
   "metadata": {},
   "source": [
    "### Fine tuning setup"
   ]
  },
  {
   "cell_type": "code",
   "execution_count": null,
   "metadata": {},
   "outputs": [],
   "source": [
    "from transformers import AutoModelForCausalLM\n",
    "from peft import LoraConfig, get_peft_model\n",
    "from transformers import EarlyStoppingCallback\n",
    "\n",
    "# Load the pretrained model\n",
    "model = AutoModelForCausalLM.from_pretrained(\"HuggingFaceTB/SmolLM2-135M\")\n",
    "\n",
    "# Configure LoRA\n",
    "lora_config = LoraConfig(\n",
    "    r=16,  # Increase from 8 to 16 for more capacity\n",
    "    lora_alpha=32,  # Keep this the same\n",
    "    lora_dropout=0.1,  # Increase from 0.05 to 0.1 for better regularization\n",
    "    target_modules=[\"q_proj\", \"v_proj\", \"k_proj\", \"o_proj\"],  # Add k_proj and o_proj\n",
    "    task_type=\"CAUSAL_LM\"\n",
    ")\n",
    "\n",
    "# Apply LoRA to the model\n",
    "model = get_peft_model(model, lora_config)\n",
    "\n",
    "# Print trainable parameters\n",
    "model.print_trainable_parameters()\n"
   ]
  },
  {
   "cell_type": "code",
   "execution_count": null,
   "metadata": {},
   "outputs": [],
   "source": [
    "from transformers import TrainingArguments\n",
    "\n",
    "# training_args = TrainingArguments(\n",
    "#     output_dir=\"./results\",\n",
    "#     evaluation_strategy=\"steps\",  # Evaluate periodically\n",
    "#     eval_steps=5000,              # Evaluate every 5000 steps\n",
    "#     save_steps=5000,              # Save model every 5000 steps\n",
    "#     logging_steps=2500,          # Log progress every 2b 500 steps\n",
    "#     load_best_model_at_end=True,  # Load the best model after training\n",
    "#     metric_for_best_model=\"eval_loss\",  # Use evaluation loss as the metric\n",
    "#     greater_is_better=False,     # Lower eval_loss is better\n",
    "#     learning_rate=5e-4,\n",
    "#     per_device_train_batch_size=4,\n",
    "#     num_train_epochs=10,\n",
    "#     save_total_limit=2,\n",
    "#     fp16=False,\n",
    "# )\n",
    "\n",
    "training_args = TrainingArguments(\n",
    "    output_dir=\"./results\",\n",
    "    evaluation_strategy=\"steps\",\n",
    "    eval_steps=1000,              # Decreased from 5000 to 1000\n",
    "    save_steps=1000,              # Decreased from 5000 to 1000\n",
    "    logging_steps=500,            # Decreased from 2500 to 500\n",
    "    load_best_model_at_end=True,\n",
    "    metric_for_best_model=\"eval_loss\",\n",
    "    greater_is_better=False,\n",
    "    learning_rate=1e-4,           # Decreased from 5e-4 to 1e-4\n",
    "    per_device_train_batch_size=8,  # Increased from 4 to 8\n",
    "    gradient_accumulation_steps=4,   # Added this parameter\n",
    "    num_train_epochs=3,           # Decreased from 10 to 3\n",
    "    save_total_limit=2,\n",
    "    fp16=False,                    # Changed to True\n",
    "    warmup_ratio=0.03,            # Added warmup\n",
    "    weight_decay=0.01,            # Added weight decay\n",
    ")\n",
    "\n",
    "print('test')"
   ]
  },
  {
   "cell_type": "markdown",
   "metadata": {},
   "source": [
    "### Train"
   ]
  },
  {
   "cell_type": "code",
   "execution_count": null,
   "metadata": {},
   "outputs": [],
   "source": [
    "trainer = Trainer(\n",
    "    model=model,\n",
    "    args=training_args,\n",
    "    train_dataset = tokenized_train,\n",
    "    eval_dataset = tokenized_eval,  # Replace with validation set if available\n",
    "    callbacks=[EarlyStoppingCallback(early_stopping_patience=3)],\n",
    ")\n",
    "\n",
    "trainer.train()\n"
   ]
  },
  {
   "cell_type": "code",
   "execution_count": null,
   "metadata": {},
   "outputs": [],
   "source": [
    "# Save the fine-tuned model and tokenizer\n",
    "output_dir = \"./smollm2_finetuned/04\"\n",
    "\n",
    "model.save_pretrained(output_dir)\n",
    "tokenizer.save_pretrained(output_dir)\n",
    "\n",
    "print(f\"Model and tokenizer saved to {output_dir}\")\n",
    "\n"
   ]
  }
 ],
 "metadata": {
  "kernelspec": {
   "display_name": "LLMenv",
   "language": "python",
   "name": "python3"
  },
  "language_info": {
   "codemirror_mode": {
    "name": "ipython",
    "version": 3
   },
   "file_extension": ".py",
   "mimetype": "text/x-python",
   "name": "python",
   "nbconvert_exporter": "python",
   "pygments_lexer": "ipython3",
   "version": "3.12.3"
  }
 },
 "nbformat": 4,
 "nbformat_minor": 2
}
